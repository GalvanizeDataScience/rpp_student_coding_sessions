{
 "cells": [
  {
   "cell_type": "markdown",
   "metadata": {},
   "source": [
    "#### What are the inputs?\n",
    "board setup\n",
    "lawn is a string that tells you where the plants are.\n",
    "zombies has when zombie appears, the row, and the health points. \n",
    "\n",
    "lawn is a list of strings\n",
    "zombies is a list of lists, where the inner one is [enter move, row, hit points]\n",
    "\n",
    "```\n",
    "[\n",
    "'2       ',\n",
    "'  S     ',\n",
    "'21  S   ',\n",
    "'13      ',\n",
    "'2 3     '],\n",
    "\n",
    "[[0,4,28],[1,1,6],[2,0,10],[2,4,15],[3,2,16],[3,3,13]]],\n",
    "```            \n",
    "\n",
    "\n",
    "#### What is the desired output?\n",
    "either number of moves when zombies penetrate defense, or None (zombies lose).\n",
    "\n",
    "\n",
    "#### What are the steps of the game?\n",
    "\n",
    "1. Parse the input\n",
    "    - create an array?\n",
    "    - maybe a matrix for the lawn?\n",
    "    - could use a flag for if the zombie is still alive\n",
    "    \n",
    "2. Zombies take action\n",
    "3. Plants shoot\n",
    "4. Evaluate how many health zombies have left.\n",
    "5. Record turn\n"
   ]
  },
  {
   "cell_type": "code",
   "execution_count": null,
   "metadata": {},
   "outputs": [],
   "source": [
    "import numpy as np"
   ]
  },
  {
   "cell_type": "code",
   "execution_count": null,
   "metadata": {},
   "outputs": [],
   "source": [
    "class Game:\n",
    "    \n",
    "    def __init__(self, inputs):\n",
    "        self.game_over = False\n",
    "        self.parse(inputs)\n",
    "        self.turn = 0\n",
    "\n",
    "    def parse(self, inputs):\n",
    "        self.parse_lawn(inputs[0])\n",
    "        self.parse_zombies(inputs[1])        \n",
    "        \n",
    "    def parse_lawn(self, lawn):\n",
    "        '''\n",
    "        convert string into an array that holds information about plants\n",
    "        ----\n",
    "        params:\n",
    "            lawn: list of strings that describes the 'lawn'\n",
    "\n",
    "        returns:\n",
    "            None\n",
    "        '''\n",
    "        # Parse one line at a time?\n",
    "        print('parsing the lawn')\n",
    "        self.lawn = np.array([list(row) for row in lawn])\n",
    "    \n",
    "    def parse_zombies(self, zombies):\n",
    "        '''\n",
    "        convert list into a numpy array that holds information about zombies\n",
    "        ----\n",
    "        params:\n",
    "            zombies: list of lists that contain integers describing the zombie\n",
    "\n",
    "        returns:\n",
    "            None\n",
    "        '''    \n",
    "        # we could use a dictionary {zombie_id: int, location: tuple (row,col), hp:int}\n",
    "        # we could use a numpy array for the zombies with location by row/col and value = hp\n",
    "        # we could leave as is, and reference it later\n",
    "        print('parsing zombies')\n",
    "        self.zombie_waiting_list = zombies\n",
    "        self.zombies = np.zeros(self.lawn.shape)\n",
    "        \n",
    "    def play(self):\n",
    "        '''\n",
    "        plays game to completion\n",
    "        \n",
    "        '''\n",
    "        while self.game_over is False:\n",
    "            self.play_one_turn()\n",
    "\n",
    "    def play_one_turn(self):\n",
    "        '''\n",
    "        plays one turn of the game\n",
    "        \n",
    "        '''\n",
    "        print('Playing turn', self.turn)\n",
    "        self.move_zombies()\n",
    "        self.enter_zombies()\n",
    "        self.plants_shoot()\n",
    "        self.turn += 1\n",
    "        print('Turn', self.turn)\n",
    "        print('Lawn:')\n",
    "        print(self.lawn)\n",
    "        print('Zombies:')        \n",
    "        print(self.zombies)       \n",
    "            \n",
    "    def enter_zombies(self):\n",
    "        '''\n",
    "        bring zombies onto the board if it's their turn\n",
    "        '''\n",
    "        # loop through zombie waiting list\n",
    "        # if zombie[0] is this turn, move it onto board\n",
    "        \n",
    "        # for every zombie in the waiting list\n",
    "        for zombie in self.zombie_waiting_list:\n",
    "            # if it's the zombie's turn\n",
    "            if zombie[0] == self.turn:\n",
    "                print('Placing zombie', zombie, 'at row', zombie[1], 'on turn', self.turn, 'with', zombie[2], 'hp')\n",
    "                # the row it should enter in is zombie[1]\n",
    "                row = zombie[1]\n",
    "                # place this zombie on the board at row, in the last column.\n",
    "                # the value we are putting there is the zombie's health\n",
    "                self.zombies[row, -1] = zombie[2] \n",
    "        \n",
    "        \n",
    "    def move_zombies(self):\n",
    "        '''\n",
    "        moves zombies forward\n",
    "        '''\n",
    "        print('Moving Zombies')\n",
    "        # if the first item in zombie list is the right turn, then put it on the board\n",
    "        if self.zombies[:, 0].sum() > 0:\n",
    "            self.game_over = True\n",
    "        else:\n",
    "            # shift all zombies to the left one square\n",
    "            new_board = np.zeros_like(self.zombies)\n",
    "            new_board[:, :-1] = self.zombies[:, 1:]\n",
    "            self.zombies = new_board\n",
    "\n",
    "    \n",
    "    def plants_shoot(self):\n",
    "        '''\n",
    "        makes all plants shoot\n",
    "        shooting should decrease zombie hp\n",
    "        'number' shooters go first\n",
    "        then 'S' shooters, right to left then top to bottom\n",
    "        \n",
    "        '''\n",
    "        print('Plants are shooting')\n",
    "        self.number_shooters()\n",
    "        self.s_shooters()\n",
    "        \n",
    "    def number_shooters(self):\n",
    "        # if the row of shooter is row of zombie, then health points decrease by the amount shooter is\n",
    "        # if shots > zombie hp, then overflow to next zombie\n",
    "        # get shots per row, and do things to zombies based on that\n",
    "        for row in range(self.lawn.shape[0]):\n",
    "            # get number of shots\n",
    "            # decrement zombie health by number of shots\n",
    "            self.shots_shots_shots(row)\n",
    "    \n",
    "    def shots_shots_shots(self, row):\n",
    "        '''\n",
    "        handles shots on a single row.\n",
    "        ---\n",
    "        params:\n",
    "            row: intger specifying row of the lawn numpy array\n",
    "        '''\n",
    "        shots = sum([int(item) for item in self.lawn[row] if item.isdigit()])\n",
    "        print('Firing', shots, 'shots on row', row)\n",
    "        \n",
    "        # have we hit any zombies?\n",
    "        \n",
    "        while (shots > 0) & (sum(self.zombies[row, :]) > 0):\n",
    "            # then we need to do shots\n",
    "            for i, zombie in enumerate(self.zombies[row, :]):\n",
    "                if zombie <= shots:\n",
    "                    self.zombies[row, :][i] = 0\n",
    "                    shots = shots - zombie            \n",
    "                else:\n",
    "                    self.zombies[row, :][i] = zombie - shots\n",
    "                    shots = 0      \n",
    "    \n",
    "    def s_shooters(self):\n",
    "        pass\n",
    "        \n",
    "    "
   ]
  },
  {
   "cell_type": "code",
   "execution_count": null,
   "metadata": {},
   "outputs": [],
   "source": [
    "sample_inputs = [[\n",
    "'2       ',\n",
    "'  S     ',\n",
    "'21  S   ',\n",
    "'13      ',\n",
    "'2 3     '],\n",
    "[\n",
    "    # on round 0 (the first round), a zombie will appear in row 4.\n",
    "    [0,4,28],\n",
    "    # on round 1, a zombie will appear in row 1.\n",
    "    [1,1,6],\n",
    "    # on round 2, a zombie will appear in rows 0 and 4\n",
    "    [2,0,10],\n",
    "    [2,4,15],\n",
    "    # on round 3, a zombie will appear in rows 2 and 3\n",
    "    [3,2,16],\n",
    "    [3,3,13]]]\n",
    "\n",
    "game = Game(sample_inputs)"
   ]
  },
  {
   "cell_type": "code",
   "execution_count": null,
   "metadata": {},
   "outputs": [],
   "source": [
    "game.zombie_waiting_list"
   ]
  },
  {
   "cell_type": "code",
   "execution_count": null,
   "metadata": {},
   "outputs": [],
   "source": [
    "game.zombies"
   ]
  },
  {
   "cell_type": "code",
   "execution_count": null,
   "metadata": {},
   "outputs": [],
   "source": [
    "zombie_board = game.play()"
   ]
  },
  {
   "cell_type": "code",
   "execution_count": null,
   "metadata": {},
   "outputs": [],
   "source": [
    "new_board = np.zeros_like(zombie_board)\n",
    "new_board[:, :-1] = zombie_board[:, 1:]\n",
    "new_board"
   ]
  },
  {
   "cell_type": "code",
   "execution_count": null,
   "metadata": {},
   "outputs": [],
   "source": [
    "# zombie_board[:, 0].sum() > 0 then zombies win"
   ]
  },
  {
   "cell_type": "code",
   "execution_count": null,
   "metadata": {},
   "outputs": [],
   "source": [
    "# check if this game object instance has the lawn information stored\n",
    "game.lawn.shape\n"
   ]
  },
  {
   "cell_type": "code",
   "execution_count": null,
   "metadata": {},
   "outputs": [],
   "source": [
    "sample_zombies = sample_inputs[1]\n",
    "sample_zombies"
   ]
  },
  {
   "cell_type": "code",
   "execution_count": null,
   "metadata": {},
   "outputs": [],
   "source": [
    "#desired:\n",
    "#  0, 0,  10, 0 \n",
    "#  0, 6,  0,  0\n",
    "#  0, 0,  0, 16\n",
    "#  0, 0,  0, 13\n",
    "# 28, 0, 15,  0\n",
    "\n"
   ]
  },
  {
   "cell_type": "code",
   "execution_count": null,
   "metadata": {},
   "outputs": [],
   "source": [
    "game.lawn"
   ]
  },
  {
   "cell_type": "code",
   "execution_count": null,
   "metadata": {},
   "outputs": [],
   "source": [
    "# how do we find out how many shots to do on row 2?\n",
    "\n",
    "shots = 0\n",
    "for item in game.lawn[2]:\n",
    "    if item.isdigit():\n",
    "        shots += int(item)\n",
    "shots"
   ]
  },
  {
   "cell_type": "code",
   "execution_count": null,
   "metadata": {},
   "outputs": [],
   "source": [
    "sum([int(item) for item in game.lawn[2] if item.isdigit()])"
   ]
  },
  {
   "cell_type": "code",
   "execution_count": null,
   "metadata": {},
   "outputs": [],
   "source": [
    "zombie_row = game.zombies[4].copy()\n",
    "\n",
    "shots = 31\n",
    "\n",
    "while (shots > 0) & (sum(zombie_row) > 0):\n",
    "    # then we need to do shots\n",
    "    for i, zombie in enumerate(zombie_row):\n",
    "        if zombie <= shots:\n",
    "            zombie_row[i] = 0\n",
    "            shots = shots - zombie            \n",
    "        else:\n",
    "            zombie_row[i] = zombie - shots\n",
    "            shots = 0\n",
    "\n",
    "zombie_row\n",
    "            \n",
    "        "
   ]
  },
  {
   "cell_type": "code",
   "execution_count": null,
   "metadata": {},
   "outputs": [],
   "source": [
    "game.zombies[4]"
   ]
  },
  {
   "cell_type": "code",
   "execution_count": null,
   "metadata": {},
   "outputs": [],
   "source": [
    "shots"
   ]
  },
  {
   "cell_type": "code",
   "execution_count": null,
   "metadata": {},
   "outputs": [],
   "source": []
  }
 ],
 "metadata": {
  "kernelspec": {
   "display_name": "Python [conda env:datasci]",
   "language": "python",
   "name": "conda-env-datasci-py"
  },
  "language_info": {
   "codemirror_mode": {
    "name": "ipython",
    "version": 3
   },
   "file_extension": ".py",
   "mimetype": "text/x-python",
   "name": "python",
   "nbconvert_exporter": "python",
   "pygments_lexer": "ipython3",
   "version": "3.8.5"
  }
 },
 "nbformat": 4,
 "nbformat_minor": 4
}
